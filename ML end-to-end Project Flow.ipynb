{
 "cells": [
  {
   "cell_type": "code",
   "execution_count": 1,
   "id": "15ef2ccb",
   "metadata": {},
   "outputs": [],
   "source": [
    "import numpy as np\n",
    "import pandas as pd"
   ]
  },
  {
   "cell_type": "code",
   "execution_count": 2,
   "id": "a37e37a0",
   "metadata": {},
   "outputs": [],
   "source": [
    "df = pd.read_csv(\"placement.csv\")"
   ]
  },
  {
   "cell_type": "code",
   "execution_count": 3,
   "id": "05961c10",
   "metadata": {},
   "outputs": [
    {
     "data": {
      "text/html": [
       "<div>\n",
       "<style scoped>\n",
       "    .dataframe tbody tr th:only-of-type {\n",
       "        vertical-align: middle;\n",
       "    }\n",
       "\n",
       "    .dataframe tbody tr th {\n",
       "        vertical-align: top;\n",
       "    }\n",
       "\n",
       "    .dataframe thead th {\n",
       "        text-align: right;\n",
       "    }\n",
       "</style>\n",
       "<table border=\"1\" class=\"dataframe\">\n",
       "  <thead>\n",
       "    <tr style=\"text-align: right;\">\n",
       "      <th></th>\n",
       "      <th>Unnamed: 0</th>\n",
       "      <th>cgpa</th>\n",
       "      <th>iq</th>\n",
       "      <th>placement</th>\n",
       "    </tr>\n",
       "  </thead>\n",
       "  <tbody>\n",
       "    <tr>\n",
       "      <th>0</th>\n",
       "      <td>0</td>\n",
       "      <td>6.8</td>\n",
       "      <td>123</td>\n",
       "      <td>1</td>\n",
       "    </tr>\n",
       "    <tr>\n",
       "      <th>1</th>\n",
       "      <td>1</td>\n",
       "      <td>5.9</td>\n",
       "      <td>106</td>\n",
       "      <td>0</td>\n",
       "    </tr>\n",
       "    <tr>\n",
       "      <th>2</th>\n",
       "      <td>2</td>\n",
       "      <td>5.3</td>\n",
       "      <td>121</td>\n",
       "      <td>1</td>\n",
       "    </tr>\n",
       "    <tr>\n",
       "      <th>3</th>\n",
       "      <td>3</td>\n",
       "      <td>7.4</td>\n",
       "      <td>132</td>\n",
       "      <td>1</td>\n",
       "    </tr>\n",
       "    <tr>\n",
       "      <th>4</th>\n",
       "      <td>4</td>\n",
       "      <td>5.8</td>\n",
       "      <td>142</td>\n",
       "      <td>1</td>\n",
       "    </tr>\n",
       "  </tbody>\n",
       "</table>\n",
       "</div>"
      ],
      "text/plain": [
       "   Unnamed: 0  cgpa   iq  placement\n",
       "0           0   6.8  123          1\n",
       "1           1   5.9  106          0\n",
       "2           2   5.3  121          1\n",
       "3           3   7.4  132          1\n",
       "4           4   5.8  142          1"
      ]
     },
     "execution_count": 3,
     "metadata": {},
     "output_type": "execute_result"
    }
   ],
   "source": [
    "df.head()"
   ]
  },
  {
   "cell_type": "markdown",
   "id": "b4988500",
   "metadata": {},
   "source": [
    "#### Steps\n",
    "1. Preprocess + EDA + Feature Selection\n",
    "2. Extract input and output cols\n",
    "3. Train test split\n",
    "4. Scale the values\n",
    "5. Train the model\n",
    "6. Evaluate the model\n",
    "7. Deploy the model"
   ]
  },
  {
   "cell_type": "markdown",
   "id": "3908a500",
   "metadata": {},
   "source": [
    "#### Step 1: Preprocess + EDA + Feature Selection\n",
    "Pre-processing includes identifying and handling missing values, outliers, etc.  \n",
    "EDA (Exploratory Data Analysis) usually involves plotting graphs and charts to understand the data.  \n",
    "Feature Selection involves determining which columns are going to help us predict the output."
   ]
  },
  {
   "cell_type": "code",
   "execution_count": 4,
   "id": "73709648",
   "metadata": {
    "scrolled": true
   },
   "outputs": [
    {
     "name": "stdout",
     "output_type": "stream",
     "text": [
      "<class 'pandas.core.frame.DataFrame'>\n",
      "RangeIndex: 100 entries, 0 to 99\n",
      "Data columns (total 4 columns):\n",
      " #   Column      Non-Null Count  Dtype  \n",
      "---  ------      --------------  -----  \n",
      " 0   Unnamed: 0  100 non-null    int64  \n",
      " 1   cgpa        100 non-null    float64\n",
      " 2   iq          100 non-null    int64  \n",
      " 3   placement   100 non-null    int64  \n",
      "dtypes: float64(1), int64(3)\n",
      "memory usage: 3.2 KB\n"
     ]
    }
   ],
   "source": [
    "df.info() #For simplicity we have a clean data with no null values"
   ]
  },
  {
   "cell_type": "code",
   "execution_count": 5,
   "id": "6f097e73",
   "metadata": {},
   "outputs": [],
   "source": [
    "df = df.iloc[:,1:] #We remove the unnecessary columns"
   ]
  },
  {
   "cell_type": "code",
   "execution_count": 6,
   "id": "c828ca5e",
   "metadata": {},
   "outputs": [
    {
     "data": {
      "text/html": [
       "<div>\n",
       "<style scoped>\n",
       "    .dataframe tbody tr th:only-of-type {\n",
       "        vertical-align: middle;\n",
       "    }\n",
       "\n",
       "    .dataframe tbody tr th {\n",
       "        vertical-align: top;\n",
       "    }\n",
       "\n",
       "    .dataframe thead th {\n",
       "        text-align: right;\n",
       "    }\n",
       "</style>\n",
       "<table border=\"1\" class=\"dataframe\">\n",
       "  <thead>\n",
       "    <tr style=\"text-align: right;\">\n",
       "      <th></th>\n",
       "      <th>cgpa</th>\n",
       "      <th>iq</th>\n",
       "      <th>placement</th>\n",
       "    </tr>\n",
       "  </thead>\n",
       "  <tbody>\n",
       "    <tr>\n",
       "      <th>0</th>\n",
       "      <td>6.8</td>\n",
       "      <td>123</td>\n",
       "      <td>1</td>\n",
       "    </tr>\n",
       "    <tr>\n",
       "      <th>1</th>\n",
       "      <td>5.9</td>\n",
       "      <td>106</td>\n",
       "      <td>0</td>\n",
       "    </tr>\n",
       "    <tr>\n",
       "      <th>2</th>\n",
       "      <td>5.3</td>\n",
       "      <td>121</td>\n",
       "      <td>1</td>\n",
       "    </tr>\n",
       "    <tr>\n",
       "      <th>3</th>\n",
       "      <td>7.4</td>\n",
       "      <td>132</td>\n",
       "      <td>1</td>\n",
       "    </tr>\n",
       "    <tr>\n",
       "      <th>4</th>\n",
       "      <td>5.8</td>\n",
       "      <td>142</td>\n",
       "      <td>1</td>\n",
       "    </tr>\n",
       "  </tbody>\n",
       "</table>\n",
       "</div>"
      ],
      "text/plain": [
       "   cgpa   iq  placement\n",
       "0   6.8  123          1\n",
       "1   5.9  106          0\n",
       "2   5.3  121          1\n",
       "3   7.4  132          1\n",
       "4   5.8  142          1"
      ]
     },
     "execution_count": 6,
     "metadata": {},
     "output_type": "execute_result"
    }
   ],
   "source": [
    "df.head()"
   ]
  },
  {
   "cell_type": "code",
   "execution_count": 7,
   "id": "5e4acf31",
   "metadata": {},
   "outputs": [],
   "source": [
    "import matplotlib.pyplot as plt "
   ]
  },
  {
   "cell_type": "code",
   "execution_count": 8,
   "id": "70c17e63",
   "metadata": {},
   "outputs": [
    {
     "data": {
      "text/plain": [
       "<matplotlib.legend.Legend at 0x1983f4396a0>"
      ]
     },
     "execution_count": 8,
     "metadata": {},
     "output_type": "execute_result"
    },
    {
     "data": {
      "image/png": "[encoded data removed]",
      "text/plain": [
       "<Figure size 640x480 with 1 Axes>"
      ]
     },
     "metadata": {},
     "output_type": "display_data"
    }
   ],
   "source": [
    "#We will use a scatter plot for EDA\n",
    "plt.scatter(df[df['placement'] == 1]['cgpa'], df[df['placement'] == 1]['iq'], c='blue', label='Placed')\n",
    "plt.scatter(df[df['placement'] == 0]['cgpa'], df[df['placement'] == 0]['iq'], c='red', label='Not Placed')\n",
    "plt.xlabel('CGPA')\n",
    "plt.ylabel('IQ')\n",
    "plt.legend()"
   ]
  },
  {
   "cell_type": "code",
   "execution_count": 9,
   "id": "09049990",
   "metadata": {},
   "outputs": [],
   "source": [
    "#The EDA lets us know that this seems to be like a classication problem and so we can use logistic regression to solve this problem"
   ]
  },
  {
   "cell_type": "markdown",
   "id": "5b45fe30",
   "metadata": {},
   "source": [
    "#### Step 2: Extract input and output cols"
   ]
  },
  {
   "cell_type": "code",
   "execution_count": 10,
   "id": "deaec0a7",
   "metadata": {},
   "outputs": [],
   "source": [
    "X = df.iloc[:,0:2]\n",
    "y = df.iloc[:,-1]"
   ]
  },
  {
   "cell_type": "code",
   "execution_count": 11,
   "id": "750d15f3",
   "metadata": {},
   "outputs": [
    {
     "data": {
      "text/html": [
       "<div>\n",
       "<style scoped>\n",
       "    .dataframe tbody tr th:only-of-type {\n",
       "        vertical-align: middle;\n",
       "    }\n",
       "\n",
       "    .dataframe tbody tr th {\n",
       "        vertical-align: top;\n",
       "    }\n",
       "\n",
       "    .dataframe thead th {\n",
       "        text-align: right;\n",
       "    }\n",
       "</style>\n",
       "<table border=\"1\" class=\"dataframe\">\n",
       "  <thead>\n",
       "    <tr style=\"text-align: right;\">\n",
       "      <th></th>\n",
       "      <th>cgpa</th>\n",
       "      <th>iq</th>\n",
       "    </tr>\n",
       "  </thead>\n",
       "  <tbody>\n",
       "    <tr>\n",
       "      <th>0</th>\n",
       "      <td>6.8</td>\n",
       "      <td>123</td>\n",
       "    </tr>\n",
       "    <tr>\n",
       "      <th>1</th>\n",
       "      <td>5.9</td>\n",
       "      <td>106</td>\n",
       "    </tr>\n",
       "    <tr>\n",
       "      <th>2</th>\n",
       "      <td>5.3</td>\n",
       "      <td>121</td>\n",
       "    </tr>\n",
       "    <tr>\n",
       "      <th>3</th>\n",
       "      <td>7.4</td>\n",
       "      <td>132</td>\n",
       "    </tr>\n",
       "    <tr>\n",
       "      <th>4</th>\n",
       "      <td>5.8</td>\n",
       "      <td>142</td>\n",
       "    </tr>\n",
       "    <tr>\n",
       "      <th>...</th>\n",
       "      <td>...</td>\n",
       "      <td>...</td>\n",
       "    </tr>\n",
       "    <tr>\n",
       "      <th>95</th>\n",
       "      <td>4.3</td>\n",
       "      <td>200</td>\n",
       "    </tr>\n",
       "    <tr>\n",
       "      <th>96</th>\n",
       "      <td>4.4</td>\n",
       "      <td>42</td>\n",
       "    </tr>\n",
       "    <tr>\n",
       "      <th>97</th>\n",
       "      <td>6.7</td>\n",
       "      <td>182</td>\n",
       "    </tr>\n",
       "    <tr>\n",
       "      <th>98</th>\n",
       "      <td>6.3</td>\n",
       "      <td>103</td>\n",
       "    </tr>\n",
       "    <tr>\n",
       "      <th>99</th>\n",
       "      <td>6.2</td>\n",
       "      <td>113</td>\n",
       "    </tr>\n",
       "  </tbody>\n",
       "</table>\n",
       "<p>100 rows × 2 columns</p>\n",
       "</div>"
      ],
      "text/plain": [
       "    cgpa   iq\n",
       "0    6.8  123\n",
       "1    5.9  106\n",
       "2    5.3  121\n",
       "3    7.4  132\n",
       "4    5.8  142\n",
       "..   ...  ...\n",
       "95   4.3  200\n",
       "96   4.4   42\n",
       "97   6.7  182\n",
       "98   6.3  103\n",
       "99   6.2  113\n",
       "\n",
       "[100 rows x 2 columns]"
      ]
     },
     "execution_count": 11,
     "metadata": {},
     "output_type": "execute_result"
    }
   ],
   "source": [
    "X"
   ]
  },
  {
   "cell_type": "code",
   "execution_count": 12,
   "id": "acf7dcd4",
   "metadata": {},
   "outputs": [
    {
     "data": {
      "text/plain": [
       "0     1\n",
       "1     0\n",
       "2     1\n",
       "3     1\n",
       "4     1\n",
       "     ..\n",
       "95    1\n",
       "96    0\n",
       "97    1\n",
       "98    0\n",
       "99    0\n",
       "Name: placement, Length: 100, dtype: int64"
      ]
     },
     "execution_count": 12,
     "metadata": {},
     "output_type": "execute_result"
    }
   ],
   "source": [
    "y"
   ]
  },
  {
   "cell_type": "markdown",
   "id": "b91878f7",
   "metadata": {},
   "source": [
    "#### Step 3: Train test split\n",
    "Here we divide our data into training and testing sets ensuring that our model is not exposed to the testing data. The ratio of training and testing data usually should be around 80:20. Also more is the training data, better is the model performance.  \n",
    "Since we are using a small dataset, we will keep the ratio 90:10"
   ]
  },
  {
   "cell_type": "code",
   "execution_count": 13,
   "id": "c3c95fc4",
   "metadata": {},
   "outputs": [],
   "source": [
    "from sklearn.model_selection import train_test_split\n",
    "\n",
    "X_train, X_test, y_train, y_test = train_test_split(X,y,test_size = 0.1,random_state=1)\n",
    "#randow_state ensures that we get the exact rows in our datasets every time we run this command "
   ]
  },
  {
   "cell_type": "code",
   "execution_count": 14,
   "id": "d5ecb5dc",
   "metadata": {},
   "outputs": [
    {
     "data": {
      "text/html": [
       "<div>\n",
       "<style scoped>\n",
       "    .dataframe tbody tr th:only-of-type {\n",
       "        vertical-align: middle;\n",
       "    }\n",
       "\n",
       "    .dataframe tbody tr th {\n",
       "        vertical-align: top;\n",
       "    }\n",
       "\n",
       "    .dataframe thead th {\n",
       "        text-align: right;\n",
       "    }\n",
       "</style>\n",
       "<table border=\"1\" class=\"dataframe\">\n",
       "  <thead>\n",
       "    <tr style=\"text-align: right;\">\n",
       "      <th></th>\n",
       "      <th>cgpa</th>\n",
       "      <th>iq</th>\n",
       "    </tr>\n",
       "  </thead>\n",
       "  <tbody>\n",
       "    <tr>\n",
       "      <th>92</th>\n",
       "      <td>5.2</td>\n",
       "      <td>110</td>\n",
       "    </tr>\n",
       "    <tr>\n",
       "      <th>39</th>\n",
       "      <td>4.6</td>\n",
       "      <td>146</td>\n",
       "    </tr>\n",
       "    <tr>\n",
       "      <th>56</th>\n",
       "      <td>6.1</td>\n",
       "      <td>65</td>\n",
       "    </tr>\n",
       "    <tr>\n",
       "      <th>52</th>\n",
       "      <td>7.0</td>\n",
       "      <td>175</td>\n",
       "    </tr>\n",
       "    <tr>\n",
       "      <th>51</th>\n",
       "      <td>4.8</td>\n",
       "      <td>141</td>\n",
       "    </tr>\n",
       "    <tr>\n",
       "      <th>...</th>\n",
       "      <td>...</td>\n",
       "      <td>...</td>\n",
       "    </tr>\n",
       "    <tr>\n",
       "      <th>75</th>\n",
       "      <td>4.8</td>\n",
       "      <td>169</td>\n",
       "    </tr>\n",
       "    <tr>\n",
       "      <th>9</th>\n",
       "      <td>5.1</td>\n",
       "      <td>66</td>\n",
       "    </tr>\n",
       "    <tr>\n",
       "      <th>72</th>\n",
       "      <td>7.3</td>\n",
       "      <td>116</td>\n",
       "    </tr>\n",
       "    <tr>\n",
       "      <th>12</th>\n",
       "      <td>5.4</td>\n",
       "      <td>139</td>\n",
       "    </tr>\n",
       "    <tr>\n",
       "      <th>37</th>\n",
       "      <td>8.1</td>\n",
       "      <td>149</td>\n",
       "    </tr>\n",
       "  </tbody>\n",
       "</table>\n",
       "<p>90 rows × 2 columns</p>\n",
       "</div>"
      ],
      "text/plain": [
       "    cgpa   iq\n",
       "92   5.2  110\n",
       "39   4.6  146\n",
       "56   6.1   65\n",
       "52   7.0  175\n",
       "51   4.8  141\n",
       "..   ...  ...\n",
       "75   4.8  169\n",
       "9    5.1   66\n",
       "72   7.3  116\n",
       "12   5.4  139\n",
       "37   8.1  149\n",
       "\n",
       "[90 rows x 2 columns]"
      ]
     },
     "execution_count": 14,
     "metadata": {},
     "output_type": "execute_result"
    }
   ],
   "source": [
    "X_train #input for training data"
   ]
  },
  {
   "cell_type": "code",
   "execution_count": 15,
   "id": "00ae9546",
   "metadata": {},
   "outputs": [
    {
     "data": {
      "text/html": [
       "<div>\n",
       "<style scoped>\n",
       "    .dataframe tbody tr th:only-of-type {\n",
       "        vertical-align: middle;\n",
       "    }\n",
       "\n",
       "    .dataframe tbody tr th {\n",
       "        vertical-align: top;\n",
       "    }\n",
       "\n",
       "    .dataframe thead th {\n",
       "        text-align: right;\n",
       "    }\n",
       "</style>\n",
       "<table border=\"1\" class=\"dataframe\">\n",
       "  <thead>\n",
       "    <tr style=\"text-align: right;\">\n",
       "      <th></th>\n",
       "      <th>cgpa</th>\n",
       "      <th>iq</th>\n",
       "    </tr>\n",
       "  </thead>\n",
       "  <tbody>\n",
       "    <tr>\n",
       "      <th>80</th>\n",
       "      <td>4.9</td>\n",
       "      <td>196</td>\n",
       "    </tr>\n",
       "    <tr>\n",
       "      <th>84</th>\n",
       "      <td>5.7</td>\n",
       "      <td>169</td>\n",
       "    </tr>\n",
       "    <tr>\n",
       "      <th>33</th>\n",
       "      <td>6.0</td>\n",
       "      <td>149</td>\n",
       "    </tr>\n",
       "    <tr>\n",
       "      <th>81</th>\n",
       "      <td>5.4</td>\n",
       "      <td>107</td>\n",
       "    </tr>\n",
       "    <tr>\n",
       "      <th>93</th>\n",
       "      <td>6.8</td>\n",
       "      <td>112</td>\n",
       "    </tr>\n",
       "    <tr>\n",
       "      <th>17</th>\n",
       "      <td>3.3</td>\n",
       "      <td>183</td>\n",
       "    </tr>\n",
       "    <tr>\n",
       "      <th>36</th>\n",
       "      <td>5.7</td>\n",
       "      <td>140</td>\n",
       "    </tr>\n",
       "    <tr>\n",
       "      <th>82</th>\n",
       "      <td>6.5</td>\n",
       "      <td>37</td>\n",
       "    </tr>\n",
       "    <tr>\n",
       "      <th>69</th>\n",
       "      <td>8.5</td>\n",
       "      <td>120</td>\n",
       "    </tr>\n",
       "    <tr>\n",
       "      <th>65</th>\n",
       "      <td>8.1</td>\n",
       "      <td>166</td>\n",
       "    </tr>\n",
       "  </tbody>\n",
       "</table>\n",
       "</div>"
      ],
      "text/plain": [
       "    cgpa   iq\n",
       "80   4.9  196\n",
       "84   5.7  169\n",
       "33   6.0  149\n",
       "81   5.4  107\n",
       "93   6.8  112\n",
       "17   3.3  183\n",
       "36   5.7  140\n",
       "82   6.5   37\n",
       "69   8.5  120\n",
       "65   8.1  166"
      ]
     },
     "execution_count": 15,
     "metadata": {},
     "output_type": "execute_result"
    }
   ],
   "source": [
    "X_test #input for testing data"
   ]
  },
  {
   "cell_type": "code",
   "execution_count": 16,
   "id": "d8fa4cbf",
   "metadata": {},
   "outputs": [
    {
     "data": {
      "text/plain": [
       "92    0\n",
       "39    1\n",
       "56    0\n",
       "52    1\n",
       "51    1\n",
       "     ..\n",
       "75    1\n",
       "9     0\n",
       "72    1\n",
       "12    1\n",
       "37    1\n",
       "Name: placement, Length: 90, dtype: int64"
      ]
     },
     "execution_count": 16,
     "metadata": {},
     "output_type": "execute_result"
    }
   ],
   "source": [
    "y_train #Output for training data"
   ]
  },
  {
   "cell_type": "markdown",
   "id": "28f66fd6",
   "metadata": {},
   "source": [
    "#### Step 4: Scale the values\n",
    "Scaling the values involves bringing all inputs to similar range, since few algorithms are distance based, they can result in errorneous values when the input columns are having very different ranges. For example age (0-100) and salary (in lacs)"
   ]
  },
  {
   "cell_type": "code",
   "execution_count": 17,
   "id": "8adefa6f",
   "metadata": {},
   "outputs": [],
   "source": [
    "from sklearn.preprocessing import StandardScaler\n",
    "scaler = StandardScaler()"
   ]
  },
  {
   "cell_type": "code",
   "execution_count": 18,
   "id": "ea9b0d77",
   "metadata": {},
   "outputs": [],
   "source": [
    "X_train = scaler.fit_transform(X_train)"
   ]
  },
  {
   "cell_type": "code",
   "execution_count": 19,
   "id": "69bebdcf",
   "metadata": {},
   "outputs": [
    {
     "data": {
      "text/plain": [
       "array([[-0.70920814, -0.39085938],\n",
       "       [-1.25475287,  0.54789851],\n",
       "       [ 0.10910895, -1.56430673],\n",
       "       [ 0.92742603,  1.30412013],\n",
       "       [-1.07290463,  0.41751547],\n",
       "       [ 0.92742603,  0.36536225],\n",
       "       [-1.89122172, -0.41693599],\n",
       "       [ 1.38204664, -1.66861317],\n",
       "       [ 0.10910895, -1.14708101],\n",
       "       [ 0.01818482,  0.5218219 ],\n",
       "       [-0.61828402, -0.10401669],\n",
       "       [-0.98198051, -1.66861317],\n",
       "       [ 0.65465367,  1.48665639],\n",
       "       [ 0.01818482, -0.59947224],\n",
       "       [-0.70920814,  0.182826  ],\n",
       "       [ 0.74557779, -0.91239154],\n",
       "       [-1.16382875, -1.90330264],\n",
       "       [ 0.01818482,  1.27804353],\n",
       "       [-0.61828402, -0.28655295],\n",
       "       [ 0.47280543,  0.91297102],\n",
       "       [-0.89105639, -0.18224652],\n",
       "       [ 0.20003307, -0.31262955],\n",
       "       [ 0.38188131,  0.41751547],\n",
       "       [-1.52752523,  1.95603533],\n",
       "       [-1.43660111,  0.62612833],\n",
       "       [-0.98198051,  0.23497921],\n",
       "       [ 0.56372955,  0.33928564],\n",
       "       [-1.07290463, -0.33870616],\n",
       "       [-1.16382875, -0.99062136],\n",
       "       [-1.07290463,  0.99120084],\n",
       "       [-0.80013226,  0.07851956],\n",
       "       [ 2.10943961,  1.12158388],\n",
       "       [ 1.2001984 , -1.95545585],\n",
       "       [-0.80013226,  1.33019674],\n",
       "       [ 1.38204664,  0.13067278],\n",
       "       [-0.5273599 , -0.28655295],\n",
       "       [ 0.01818482,  1.06943066],\n",
       "       [ 1.38204664,  0.8608178 ],\n",
       "       [ 0.92742603,  1.92995872],\n",
       "       [ 0.29095719, -0.57339563],\n",
       "       [ 0.74557779,  0.41751547],\n",
       "       [ 1.654819  , -0.28655295],\n",
       "       [-1.16382875, -0.10401669],\n",
       "       [-0.16366342,  0.44359207],\n",
       "       [ 1.83666724, -1.19923422],\n",
       "       [-0.5273599 ,  0.26105582],\n",
       "       [ 1.01835015,  0.67828155],\n",
       "       [-0.25458754,  0.70435815],\n",
       "       [ 1.29112252,  0.182826  ],\n",
       "       [ 0.65465367,  0.75651137],\n",
       "       [ 1.47297076,  0.07851956],\n",
       "       [ 0.83650191, -0.75593189],\n",
       "       [ 0.29095719,  0.05244296],\n",
       "       [ 1.47297076, -0.93846814],\n",
       "       [-0.70920814,  0.93904762],\n",
       "       [-0.98198051,  0.67828155],\n",
       "       [ 0.10910895,  0.80866458],\n",
       "       [ 0.83650191,  0.36536225],\n",
       "       [ 0.74557779, -0.05186348],\n",
       "       [ 1.2001984 , -1.01669797],\n",
       "       [ 0.47280543,  0.13067278],\n",
       "       [-0.98198051, -0.1300933 ],\n",
       "       [ 1.2001984 ,  0.31320903],\n",
       "       [ 0.29095719,  0.07851956],\n",
       "       [-0.89105639, -1.61645995],\n",
       "       [-1.43660111, -2.16406872],\n",
       "       [ 0.38188131, -0.23439973],\n",
       "       [-1.80029759, -1.30354065],\n",
       "       [-0.16366342,  1.06943066],\n",
       "       [ 0.10910895, -0.57339563],\n",
       "       [ 0.92742603, -0.33870616],\n",
       "       [-0.70920814, -0.91239154],\n",
       "       [ 0.83650191,  0.33928564],\n",
       "       [-1.80029759, -0.65162546],\n",
       "       [ 0.56372955, -0.1300933 ],\n",
       "       [-2.2549182 ,  2.81656339],\n",
       "       [-0.89105639, -0.88631493],\n",
       "       [-0.25458754,  0.46966868],\n",
       "       [ 0.10910895,  0.182826  ],\n",
       "       [-0.98198051,  0.78258798],\n",
       "       [-0.0727393 , -0.49516581],\n",
       "       [-0.70920814,  2.58187392],\n",
       "       [ 0.92742603, -1.59038334],\n",
       "       [ 0.47280543, -0.91239154],\n",
       "       [ 1.01835015, -2.00760907],\n",
       "       [-1.07290463,  1.14766049],\n",
       "       [-0.80013226, -1.53823013],\n",
       "       [ 1.2001984 , -0.23439973],\n",
       "       [-0.5273599 ,  0.36536225],\n",
       "       [ 1.92759136,  0.62612833]])"
      ]
     },
     "execution_count": 19,
     "metadata": {},
     "output_type": "execute_result"
    }
   ],
   "source": [
    "X_train"
   ]
  },
  {
   "cell_type": "code",
   "execution_count": 20,
   "id": "6b7e46a5",
   "metadata": {},
   "outputs": [],
   "source": [
    "X_test = scaler.transform(X_test)"
   ]
  },
  {
   "cell_type": "code",
   "execution_count": 21,
   "id": "2c06f8ce",
   "metadata": {},
   "outputs": [
    {
     "data": {
      "text/plain": [
       "array([[-0.98198051,  1.8517289 ],\n",
       "       [-0.25458754,  1.14766049],\n",
       "       [ 0.01818482,  0.62612833],\n",
       "       [-0.5273599 , -0.4690892 ],\n",
       "       [ 0.74557779, -0.33870616],\n",
       "       [-2.43676644,  1.512733  ],\n",
       "       [-0.25458754,  0.39143886],\n",
       "       [ 0.47280543, -2.29445175],\n",
       "       [ 2.29128785, -0.1300933 ],\n",
       "       [ 1.92759136,  1.06943066]])"
      ]
     },
     "execution_count": 21,
     "metadata": {},
     "output_type": "execute_result"
    }
   ],
   "source": [
    "X_test"
   ]
  },
  {
   "cell_type": "markdown",
   "id": "d82b0422",
   "metadata": {},
   "source": [
    "#### Step 5: Train the model\n",
    "The EDA lets us know that this seems to be like a classication problem and so we can use logistic regression to solve this problem"
   ]
  },
  {
   "cell_type": "code",
   "execution_count": 22,
   "id": "457ab10e",
   "metadata": {},
   "outputs": [],
   "source": [
    "from sklearn.linear_model import LogisticRegression"
   ]
  },
  {
   "cell_type": "code",
   "execution_count": 23,
   "id": "79db7d98",
   "metadata": {},
   "outputs": [],
   "source": [
    "clf = LogisticRegression()"
   ]
  },
  {
   "cell_type": "code",
   "execution_count": 24,
   "id": "e65bc257",
   "metadata": {},
   "outputs": [
    {
     "data": {
      "text/plain": [
       "LogisticRegression()"
      ]
     },
     "execution_count": 24,
     "metadata": {},
     "output_type": "execute_result"
    }
   ],
   "source": [
    "# model training\n",
    "clf.fit(X_train,y_train)"
   ]
  },
  {
   "cell_type": "markdown",
   "id": "a171da9c",
   "metadata": {},
   "source": [
    "#### Step 6: Model Evaluation\n",
    "Model selection / evaluation involves building models using different types of algorithms and then determining which one is giving us the best results."
   ]
  },
  {
   "cell_type": "code",
   "execution_count": 25,
   "id": "7f636e1e",
   "metadata": {},
   "outputs": [
    {
     "data": {
      "text/plain": [
       "array([1, 1, 1, 0, 1, 1, 1, 0, 1, 1], dtype=int64)"
      ]
     },
     "execution_count": 25,
     "metadata": {},
     "output_type": "execute_result"
    }
   ],
   "source": [
    "y_pred = clf.predict(X_test) #This is the prediction given by our model\n",
    "y_pred"
   ]
  },
  {
   "cell_type": "code",
   "execution_count": 26,
   "id": "f47b6af2",
   "metadata": {},
   "outputs": [
    {
     "data": {
      "text/plain": [
       "80    1\n",
       "84    1\n",
       "33    1\n",
       "81    0\n",
       "93    1\n",
       "17    1\n",
       "36    1\n",
       "82    0\n",
       "69    1\n",
       "65    1\n",
       "Name: placement, dtype: int64"
      ]
     },
     "execution_count": 26,
     "metadata": {},
     "output_type": "execute_result"
    }
   ],
   "source": [
    "y_test #These were our original values"
   ]
  },
  {
   "cell_type": "code",
   "execution_count": 28,
   "id": "44722c1d",
   "metadata": {},
   "outputs": [],
   "source": [
    "from sklearn.metrics import accuracy_score # Using this we will calculate the accuracy of our model"
   ]
  },
  {
   "cell_type": "code",
   "execution_count": 29,
   "id": "7b252fee",
   "metadata": {},
   "outputs": [
    {
     "data": {
      "text/plain": [
       "1.0"
      ]
     },
     "execution_count": 29,
     "metadata": {},
     "output_type": "execute_result"
    }
   ],
   "source": [
    "accuracy_score(y_test,y_pred) \n",
    "#Since this was a pretty simple dataset, without any outliers, our accuracy came out to be 100%\n",
    "#Ideally the accuracy of a good model can vary from 90% to 99% depending on the quality and quantity of our training data"
   ]
  },
  {
   "cell_type": "code",
   "execution_count": 30,
   "id": "79c87ce5",
   "metadata": {},
   "outputs": [
    {
     "ename": "ModuleNotFoundError",
     "evalue": "No module named 'mlxtend'",
     "output_type": "error",
     "traceback": [
      "\u001b[1;31m---------------------------------------------------------------------------\u001b[0m",
      "\u001b[1;31mModuleNotFoundError\u001b[0m                       Traceback (most recent call last)",
      "\u001b[1;32m~\\AppData\\Local\\Temp\\ipykernel_17004\\3771186646.py\u001b[0m in \u001b[0;36m<module>\u001b[1;34m\u001b[0m\n\u001b[1;32m----> 1\u001b[1;33m \u001b[1;32mfrom\u001b[0m \u001b[0mmlxtend\u001b[0m\u001b[1;33m.\u001b[0m\u001b[0mplotting\u001b[0m \u001b[1;32mimport\u001b[0m \u001b[0mplot_decision_regions\u001b[0m\u001b[1;33m\u001b[0m\u001b[1;33m\u001b[0m\u001b[0m\n\u001b[0m\u001b[0;32m      2\u001b[0m \u001b[0mplot_decision_regions\u001b[0m\u001b[1;33m(\u001b[0m\u001b[0mX_train\u001b[0m\u001b[1;33m,\u001b[0m \u001b[0my_train\u001b[0m\u001b[1;33m.\u001b[0m\u001b[0mvalues\u001b[0m\u001b[1;33m,\u001b[0m \u001b[0mclf\u001b[0m\u001b[1;33m=\u001b[0m\u001b[0mclf\u001b[0m\u001b[1;33m,\u001b[0m \u001b[0mlegends\u001b[0m \u001b[1;33m=\u001b[0m \u001b[1;36m2\u001b[0m\u001b[1;33m)\u001b[0m\u001b[1;33m\u001b[0m\u001b[1;33m\u001b[0m\u001b[0m\n",
      "\u001b[1;31mModuleNotFoundError\u001b[0m: No module named 'mlxtend'"
     ]
    }
   ],
   "source": [
    "from mlxtend.plotting import plot_decision_regions\n",
    "plot_decision_regions(X_train, y_train.values, clf=clf, legends = 2)"
   ]
  },
  {
   "cell_type": "code",
   "execution_count": 41,
   "id": "9a3f9731",
   "metadata": {},
   "outputs": [],
   "source": [
    "# below code helps us to create a file of our model which we can deploy on a website\n",
    "import pickle"
   ]
  },
  {
   "cell_type": "code",
   "execution_count": 42,
   "id": "bdd2dbf8",
   "metadata": {},
   "outputs": [],
   "source": [
    "pickle.dump(clf,open('model.pkl','wb')) # The file has been created in the folder containing our ipynb file"
   ]
  }
 ],
 "metadata": {
  "kernelspec": {
   "display_name": "Python 3 (ipykernel)",
   "language": "python",
   "name": "python3"
  },
  "language_info": {
   "codemirror_mode": {
    "name": "ipython",
    "version": 3
   },
   "file_extension": ".py",
   "mimetype": "text/x-python",
   "name": "python",
   "nbconvert_exporter": "python",
   "pygments_lexer": "ipython3",
   "version": "3.9.13"
  }
 },
 "nbformat": 4,
 "nbformat_minor": 5
}
